{
 "cells": [
  {
   "cell_type": "code",
   "execution_count": 1,
   "id": "e665f8b4-39ad-42b9-9839-705b854a3263",
   "metadata": {},
   "outputs": [],
   "source": [
    "import math"
   ]
  },
  {
   "cell_type": "code",
   "execution_count": 2,
   "id": "a69027ae-82dd-4df0-b8f0-abaedc4cdd30",
   "metadata": {},
   "outputs": [],
   "source": [
    "sales = [2, 8, 11, 8, 12, 13, 15, 15, 11, 14, 13.75, 18, 20, 21, 25]\n"
   ]
  },
  {
   "cell_type": "code",
   "execution_count": 3,
   "id": "4d58a749-6b9c-4921-8cca-8d6d7e10d537",
   "metadata": {},
   "outputs": [],
   "source": [
    "mean = sum(sales) / len(sales) "
   ]
  },
  {
   "cell_type": "code",
   "execution_count": 4,
   "id": "db6fe54b-5c01-4a7e-aa2e-9cac7786811b",
   "metadata": {},
   "outputs": [],
   "source": [
    "variance = sum((x - mean) ** 2 for x in sales) / len(sales) "
   ]
  },
  {
   "cell_type": "code",
   "execution_count": 5,
   "id": "48589281-b738-43ce-8ce9-caea84125c2b",
   "metadata": {},
   "outputs": [],
   "source": [
    "std_dev = math.sqrt(variance)"
   ]
  },
  {
   "cell_type": "code",
   "execution_count": 6,
   "id": "95c3e837-c142-49e1-aac3-fa4c77dfc202",
   "metadata": {},
   "outputs": [],
   "source": [
    "lower_bound = mean - std_dev\n",
    "upper_bound = mean + std_dev"
   ]
  },
  {
   "cell_type": "code",
   "execution_count": 7,
   "id": "8e6d62b0-b4d6-41fa-bca7-52aa1e39668e",
   "metadata": {},
   "outputs": [
    {
     "name": "stdout",
     "output_type": "stream",
     "text": [
      "Standard Deviation: 5.551926592534243\n",
      "Range of sales within 68% of the mean: 8.231406740799091 to 19.335259925867575\n"
     ]
    }
   ],
   "source": [
    "print(f\"Standard Deviation: {std_dev}\")\n",
    "print(f\"Range of sales within 68% of the mean: {lower_bound} to {upper_bound}\")"
   ]
  },
  {
   "cell_type": "code",
   "execution_count": null,
   "id": "b8184e6a-32c9-43c4-b4ee-3d50efaf0b10",
   "metadata": {},
   "outputs": [],
   "source": []
  }
 ],
 "metadata": {
  "kernelspec": {
   "display_name": "Python 3 (ipykernel)",
   "language": "python",
   "name": "python3"
  },
  "language_info": {
   "codemirror_mode": {
    "name": "ipython",
    "version": 3
   },
   "file_extension": ".py",
   "mimetype": "text/x-python",
   "name": "python",
   "nbconvert_exporter": "python",
   "pygments_lexer": "ipython3",
   "version": "3.11.7"
  }
 },
 "nbformat": 4,
 "nbformat_minor": 5
}
